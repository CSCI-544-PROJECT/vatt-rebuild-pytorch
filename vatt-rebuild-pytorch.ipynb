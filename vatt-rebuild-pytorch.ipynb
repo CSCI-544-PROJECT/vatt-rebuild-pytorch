{
 "cells": [
  {
   "cell_type": "code",
   "execution_count": 1,
   "metadata": {},
   "outputs": [
    {
     "name": "stderr",
     "output_type": "stream",
     "text": [
      "WARNING: Ignoring invalid distribution ~orch (C:\\Users\\jayas\\AppData\\Roaming\\Python\\Python312\\site-packages)\n",
      "WARNING: Ignoring invalid distribution ~orch (C:\\Users\\jayas\\AppData\\Roaming\\Python\\Python312\\site-packages)\n",
      "WARNING: Ignoring invalid distribution ~orch (C:\\Users\\jayas\\AppData\\Roaming\\Python\\Python312\\site-packages)\n"
     ]
    }
   ],
   "source": [
    "# Step 0: Install necessary libraries\n",
    "!pip -q install torchaudio transformers PySoundFile tqdm"
   ]
  },
  {
   "cell_type": "markdown",
   "metadata": {},
   "source": [
    "# The modified VATT architecture for audio-text alignment"
   ]
  },
  {
   "cell_type": "code",
   "execution_count": 2,
   "metadata": {},
   "outputs": [],
   "source": [
    "# Step 1: Install and Import Libraries\n",
    "import torch\n",
    "import torch.nn as nn\n",
    "from transformers import AutoTokenizer\n",
    "import numpy as np"
   ]
  },
  {
   "cell_type": "code",
   "execution_count": 3,
   "metadata": {},
   "outputs": [],
   "source": [
    "# Check if CUDA is available\n",
    "device = torch.device(\"cuda\" if torch.cuda.is_available() else \"cpu\")"
   ]
  },
  {
   "cell_type": "code",
   "execution_count": 4,
   "metadata": {},
   "outputs": [],
   "source": [
    "# Step 2: Audio Tokenization\n",
    "class AudioTokenizer(nn.Module):\n",
    "    def __init__(self, patch_size=128, embed_dim=2048):\n",
    "        super(AudioTokenizer, self).__init__()\n",
    "        self.patch_size = patch_size\n",
    "        self.projection = nn.Linear(patch_size, embed_dim)\n",
    "    \n",
    "    def forward(self, audio_signal):\n",
    "        # Assuming audio_signal is [batch, time_samples]\n",
    "        batch_size, time_len = audio_signal.shape\n",
    "        num_patches = time_len // self.patch_size\n",
    "        audio_signal = audio_signal[:, :num_patches * self.patch_size]\n",
    "        audio_patches = audio_signal.reshape(batch_size, num_patches, self.patch_size)\n",
    "        # Project each patch to embedding dimension\n",
    "        audio_embeddings = self.projection(audio_patches)  # [batch, num_patches, embed_dim]\n",
    "        return audio_embeddings"
   ]
  },
  {
   "cell_type": "code",
   "execution_count": 5,
   "metadata": {},
   "outputs": [],
   "source": [
    "class TextTokenizer(nn.Module):\n",
    "    def __init__(self, embed_dim=768, max_length=512):\n",
    "        super(TextTokenizer, self).__init__()\n",
    "        self.tokenizer = AutoTokenizer.from_pretrained(\"bert-base-uncased\")\n",
    "        self.embedding = nn.Embedding(self.tokenizer.vocab_size, embed_dim)\n",
    "        self.max_length = max_length\n",
    "    \n",
    "    def forward(self, text):\n",
    "        # text is a list of strings\n",
    "        tokens = self.tokenizer(\n",
    "            text, \n",
    "            truncation=True, \n",
    "            padding=\"max_length\", \n",
    "            max_length=self.max_length, \n",
    "            return_tensors=\"pt\"\n",
    "        )\n",
    "        input_ids = tokens[\"input_ids\"].to(device)  # [batch, max_length]\n",
    "        text_embeddings = self.embedding(input_ids)  # [batch, max_length, embed_dim]\n",
    "        return text_embeddings  # Ensures 3D output\n"
   ]
  },
  {
   "cell_type": "code",
   "execution_count": 6,
   "metadata": {},
   "outputs": [],
   "source": [
    "class PositionalEncoding(nn.Module):\n",
    "    def __init__(self, embed_dim, max_len=5000):\n",
    "        super(PositionalEncoding, self).__init__()\n",
    "        self.embed_dim = embed_dim\n",
    "        position = torch.arange(0, max_len).unsqueeze(1)\n",
    "        div_term = torch.exp(torch.arange(0, embed_dim, 2) * -(np.log(10000.0) / embed_dim))\n",
    "        pe = torch.zeros(max_len, embed_dim)\n",
    "        pe[:, 0::2] = torch.sin(position * div_term)\n",
    "        pe[:, 1::2] = torch.cos(position * div_term)\n",
    "        self.register_buffer('pe', pe.unsqueeze(0))  # Shape [1, max_len, embed_dim]\n",
    "\n",
    "    def forward(self, x):\n",
    "        # Adjust the positional encoding to match the actual input shape\n",
    "        batch_size, seq_len, embed_dim = x.size()\n",
    "        pe = self.pe[:, :seq_len, :].expand(batch_size, seq_len, embed_dim)\n",
    "        \n",
    "        return x + pe.to(x.device)"
   ]
  },
  {
   "cell_type": "code",
   "execution_count": 7,
   "metadata": {},
   "outputs": [],
   "source": [
    "# Step 5: Transformer Encoder Components\n",
    "class MultiHeadAttention(nn.Module):\n",
    "    def __init__(self, embed_dim, num_heads):\n",
    "        super(MultiHeadAttention, self).__init__()\n",
    "        self.attention = nn.MultiheadAttention(embed_dim, num_heads)\n",
    "    \n",
    "    def forward(self, x):\n",
    "        attn_output, _ = self.attention(x, x, x)\n",
    "        return attn_output\n",
    "\n",
    "class FeedForward(nn.Module):\n",
    "    def __init__(self, embed_dim, expansion_factor=4):\n",
    "        super(FeedForward, self).__init__()\n",
    "        self.fc1 = nn.Linear(embed_dim, embed_dim * expansion_factor)\n",
    "        self.fc2 = nn.Linear(embed_dim * expansion_factor, embed_dim)\n",
    "        self.activation = nn.GELU()\n",
    "    \n",
    "    def forward(self, x):\n",
    "        return self.fc2(self.activation(self.fc1(x)))\n",
    "\n",
    "class TransformerEncoderLayer(nn.Module):\n",
    "    def __init__(self, embed_dim, num_heads):\n",
    "        super(TransformerEncoderLayer, self).__init__()\n",
    "        self.self_attn = nn.MultiheadAttention(embed_dim, num_heads)\n",
    "        self.linear1 = nn.Linear(embed_dim, embed_dim * 4)\n",
    "        self.dropout = nn.Dropout(0.1)\n",
    "        self.linear2 = nn.Linear(embed_dim * 4, embed_dim)\n",
    "        self.norm1 = nn.LayerNorm(embed_dim)\n",
    "        self.norm2 = nn.LayerNorm(embed_dim)\n",
    "        self.dropout1 = nn.Dropout(0.1)\n",
    "        self.dropout2 = nn.Dropout(0.1)\n",
    "\n",
    "    def forward(self, src):\n",
    "        src2 = self.self_attn(src, src, src)[0]\n",
    "        src = src + self.dropout1(src2)\n",
    "        src = self.norm1(src)\n",
    "        src2 = self.linear2(self.dropout(torch.relu(self.linear1(src))))\n",
    "        src = src + self.dropout2(src2)\n",
    "        src = self.norm2(src)\n",
    "        return src"
   ]
  },
  {
   "cell_type": "code",
   "execution_count": 8,
   "metadata": {},
   "outputs": [],
   "source": [
    "class TransformerFactory(nn.Module):\n",
    "    \"\"\"\n",
    "    Factory class to create TransformerEncoder instances with customizable parameters.\n",
    "    \"\"\"\n",
    "    def __init__(self, embed_dim, num_heads, num_layers, feedforward_dim_multiplier=4, dropout=0.1):\n",
    "        \"\"\"\n",
    "        Args:\n",
    "            embed_dim (int): Dimension of the input embeddings.\n",
    "            num_heads (int): Number of attention heads.\n",
    "            num_layers (int): Number of Transformer layers.\n",
    "            feedforward_dim_multiplier (int): Multiplier for feedforward layer dimensions.\n",
    "            dropout (float): Dropout probability.\n",
    "        \"\"\"\n",
    "        super(TransformerFactory, self).__init__()\n",
    "        self.encoder = nn.TransformerEncoder(\n",
    "            nn.TransformerEncoderLayer(\n",
    "                d_model=embed_dim, \n",
    "                nhead=num_heads, \n",
    "                dim_feedforward=embed_dim * feedforward_dim_multiplier, \n",
    "                dropout=dropout,\n",
    "                batch_first=True  # Enable batch-first optimization\n",
    "            ),\n",
    "            num_layers=num_layers\n",
    "        )\n",
    "\n",
    "    def forward(self, x):\n",
    "        return self.encoder(x)"
   ]
  },
  {
   "cell_type": "code",
   "execution_count": 9,
   "metadata": {},
   "outputs": [],
   "source": [
    "# Step 6: Projection Head\n",
    "class ProjectionHead(nn.Module):\n",
    "    def __init__(self, embed_dim, proj_dim):\n",
    "        super(ProjectionHead, self).__init__()\n",
    "        self.hidden_dim = embed_dim * 2\n",
    "        self.projection = nn.Sequential(\n",
    "            nn.Linear(embed_dim, self.hidden_dim),\n",
    "            nn.GELU(),\n",
    "            nn.Linear(self.hidden_dim, proj_dim),\n",
    "        )\n",
    "    \n",
    "    def forward(self, x):\n",
    "        # Extract [CLS] token (or average pool)\n",
    "        x = x[:, 0]  # Assuming first token is [CLS]\n",
    "        return self.projection(x)"
   ]
  },
  {
   "cell_type": "code",
   "execution_count": 10,
   "metadata": {},
   "outputs": [],
   "source": [
    "# Step 7: Contrastive Learning (NCE and MIL-NCE)\n",
    "class ContrastiveLoss(nn.Module):\n",
    "    def __init__(self, temperature=0.07):\n",
    "        super(ContrastiveLoss, self).__init__()\n",
    "        self.temperature = temperature\n",
    "    \n",
    "    def forward(self, features_a, features_b):\n",
    "        # Normalize features and compute similarity matrix\n",
    "        features_a = nn.functional.normalize(features_a, dim=1)\n",
    "        features_b = nn.functional.normalize(features_b, dim=1)\n",
    "        logits = torch.matmul(features_a, features_b.T) / self.temperature\n",
    "        labels = torch.arange(len(features_a)).to(device)\n",
    "        return nn.CrossEntropyLoss()(logits, labels)"
   ]
  },
  {
   "cell_type": "code",
   "execution_count": 11,
   "metadata": {},
   "outputs": [],
   "source": [
    "# Step 8: DropToken Implementation\n",
    "class DropToken(nn.Module):\n",
    "    def __init__(self, drop_rate=0.5):\n",
    "        super(DropToken, self).__init__()\n",
    "        self.drop_rate = drop_rate\n",
    "    \n",
    "    def forward(self, x):\n",
    "        if not self.training:\n",
    "            return x\n",
    "        keep_prob = 1 - self.drop_rate\n",
    "        mask = torch.rand(x.shape[:2], device=x.device) < keep_prob\n",
    "        x = x * mask.unsqueeze(-1)\n",
    "        return x"
   ]
  },
  {
   "cell_type": "markdown",
   "metadata": {},
   "source": [
    "# Data loading and training"
   ]
  },
  {
   "cell_type": "code",
   "execution_count": 12,
   "metadata": {},
   "outputs": [],
   "source": [
    "# Step 1: Assuming we have already downloaded TED-LIUM dataset and extracted audio + text files\n",
    "# From: https://www.openslr.org/51/ [50.6 GB]\n",
    "PATH_TO_AUDIO_FILES = \"./audio_files\"\n",
    "PATH_TO_TRANSCRIPT_FILES = \"./transcript_files\""
   ]
  },
  {
   "cell_type": "code",
   "execution_count": 13,
   "metadata": {},
   "outputs": [],
   "source": [
    "# Step 2: Imports\n",
    "import torch\n",
    "import torchaudio\n",
    "from torch.utils.data import Dataset, DataLoader\n",
    "import os\n",
    "from transformers import AutoTokenizer"
   ]
  },
  {
   "cell_type": "code",
   "execution_count": 14,
   "metadata": {},
   "outputs": [],
   "source": [
    "import torch.nn.functional as F\n",
    "\n",
    "def collate_fn(batch, max_audio_length=160000):\n",
    "    audio_tensors = []\n",
    "    text_list = []\n",
    "\n",
    "    for audio, text in batch:\n",
    "        # Adjust audio length to max_audio_length\n",
    "        if audio.size(0) > max_audio_length:\n",
    "            audio = audio[:max_audio_length]\n",
    "        else:\n",
    "            audio = F.pad(audio, (0, max_audio_length - audio.size(0)))\n",
    "        \n",
    "        audio_tensors.append(audio)\n",
    "        text_list.append(text)\n",
    "\n",
    "    # Stack the audio tensors into a batch\n",
    "    audio_batch = torch.stack(audio_tensors)\n",
    "\n",
    "    # text_list is a list of strings\n",
    "    return audio_batch, text_list"
   ]
  },
  {
   "cell_type": "code",
   "execution_count": 15,
   "metadata": {},
   "outputs": [],
   "source": [
    "# Step 3: TED-LIUM Dataset Setup\n",
    "class TEDLIUMDataset(Dataset):\n",
    "    def __init__(self, audio_dir, transcript_dir, tokenizer, max_text_length=512, sample_rate=16000, test_size=10):\n",
    "        \"\"\"\n",
    "        Initialize dataset with paths to audio and transcript directories and tokenizer.\n",
    "        \n",
    "        Args:\n",
    "            audio_dir (str): Path to directory containing audio files.\n",
    "            transcript_dir (str): Path to directory containing transcript files.\n",
    "            tokenizer (transformers.AutoTokenizer): Tokenizer for text data.\n",
    "            max_text_length (int): Maximum length for text tokenization.\n",
    "            sample_rate (int): Desired sample rate for audio.\n",
    "            test_size (int): Number of samples to use for the test set.\n",
    "        \"\"\"\n",
    "        self.audio_files = sorted([\n",
    "            os.path.join(audio_dir, f) for f in os.listdir(audio_dir) if f.endswith(\".wav\")\n",
    "        ])\n",
    "        self.transcript_files = sorted([\n",
    "            os.path.join(transcript_dir, f) for f in os.listdir(transcript_dir) if f.endswith(\".stm\")\n",
    "        ])\n",
    "        \n",
    "        self.tokenizer = tokenizer\n",
    "        self.max_text_length = max_text_length\n",
    "        self.sample_rate = sample_rate\n",
    "        self.test_size = test_size\n",
    "\n",
    "        # Split data into training and testing\n",
    "        self.train_audio_files = self.audio_files[:-self.test_size]  # All except last 10\n",
    "        self.test_audio_files = self.audio_files[-self.test_size:]   # Last 10\n",
    "        self.train_transcript_files = self.transcript_files[:-self.test_size]  # All except last 10\n",
    "        self.test_transcript_files = self.transcript_files[-self.test_size:]   # Last 10\n",
    "\n",
    "    def __len__(self):\n",
    "        # The length should be the size of the training set (excluding test set entries)\n",
    "        return len(self.train_audio_files)\n",
    "\n",
    "    def __getitem__(self, idx):\n",
    "        # Get the training sample\n",
    "        audio_path = self.train_audio_files[idx]\n",
    "        transcript_path = self.train_transcript_files[idx]\n",
    "        \n",
    "        # Load audio file\n",
    "        waveform, sr = torchaudio.load(audio_path)\n",
    "        \n",
    "        # Resample to desired sample rate if necessary\n",
    "        if sr != self.sample_rate:\n",
    "            waveform = torchaudio.transforms.Resample(sr, self.sample_rate)(waveform)\n",
    "\n",
    "        # Load transcript\n",
    "        with open(transcript_path, 'r', encoding='utf-8') as f:\n",
    "            transcript = f.read().strip()\n",
    "        \n",
    "        # Return waveform and transcript for training\n",
    "        return waveform.squeeze(0), transcript\n",
    "    \n",
    "    def get_test_samples(self):\n",
    "        \"\"\"Return a list of test samples (audio and corresponding transcript).\"\"\"\n",
    "        test_samples = []\n",
    "        for i in range(self.test_size):\n",
    "            audio_path = self.test_audio_files[i]\n",
    "            transcript_path = self.test_transcript_files[i]\n",
    "            \n",
    "            # Load audio file\n",
    "            waveform, sr = torchaudio.load(audio_path)\n",
    "            \n",
    "            # Resample if necessary\n",
    "            if sr != self.sample_rate:\n",
    "                waveform = torchaudio.transforms.Resample(sr, self.sample_rate)(waveform)\n",
    "\n",
    "            # Load transcript\n",
    "            with open(transcript_path, 'r', encoding='utf-8') as f:\n",
    "                transcript = f.read().strip()\n",
    "            \n",
    "            # Append audio and transcript to test_samples\n",
    "            test_samples.append((waveform.squeeze(0), transcript))\n",
    "        \n",
    "        return test_samples\n",
    "\n",
    "# Initialize tokenizer and dataset\n",
    "tokenizer = AutoTokenizer.from_pretrained(\"bert-base-uncased\")\n",
    "dataset = TEDLIUMDataset(audio_dir=PATH_TO_AUDIO_FILES, transcript_dir=PATH_TO_TRANSCRIPT_FILES, tokenizer=tokenizer)\n",
    "dataloader = DataLoader(dataset, batch_size=4, shuffle=True, drop_last=True, collate_fn=lambda x: collate_fn(x))"
   ]
  },
  {
   "cell_type": "markdown",
   "metadata": {},
   "source": [
    "# Defining training components"
   ]
  },
  {
   "cell_type": "code",
   "execution_count": 16,
   "metadata": {},
   "outputs": [
    {
     "name": "stderr",
     "output_type": "stream",
     "text": [
      "Some weights of Wav2Vec2Model were not initialized from the model checkpoint at facebook/wav2vec2-large-960h and are newly initialized: ['wav2vec2.masked_spec_embed']\n",
      "You should probably TRAIN this model on a down-stream task to be able to use it for predictions and inference.\n"
     ]
    }
   ],
   "source": [
    "# Step 4: Define Training Components\n",
    "\n",
    "# Define a lower learning rate for pretrained encoders\n",
    "pretrained_lr = 1e-4  # Lower learning rate for BERT and Wav2Vec2\n",
    "training_lr = 1e-3  # Default learning rate for the rest of the model\n",
    "num_of_layers_to_unfreeze = 8\n",
    "\n",
    "# Initialize model components\n",
    "from transformers import Wav2Vec2Model, BertModel\n",
    "\n",
    "audio_encoder = Wav2Vec2Model.from_pretrained('facebook/wav2vec2-large-960h').to(device)\n",
    "audio_encoder.gradient_checkpointing_enable()\n",
    "\n",
    "text_encoder = BertModel.from_pretrained('bert-base-uncased').to(device)\n",
    "text_encoder.gradient_checkpointing_enable()\n",
    "\n",
    "for param in audio_encoder.parameters(): param.requires_grad = False\n",
    "for param in audio_encoder.encoder.layers[-num_of_layers_to_unfreeze:].parameters(): param.requires_grad = True\n",
    "for param in text_encoder.parameters(): param.requires_grad = False\n",
    "for param in text_encoder.encoder.layer[-num_of_layers_to_unfreeze:].parameters(): param.requires_grad = True\n",
    "\n",
    "projection_head_audio = ProjectionHead(embed_dim=1024, proj_dim=256).to(device)\n",
    "projection_head_text = ProjectionHead(embed_dim=768, proj_dim=256).to(device)\n",
    "\n",
    "contrastive_loss = ContrastiveLoss().to(device)\n",
    "droptoken = DropToken(drop_rate=0.5).to(device)\n",
    "\n",
    "# Optimizer\n",
    "optimizer = torch.optim.AdamW([\n",
    "    {'params': audio_encoder.parameters(), 'lr': pretrained_lr},\n",
    "    {'params': text_encoder.parameters(), 'lr': pretrained_lr},\n",
    "    {'params': projection_head_audio.parameters(), 'lr': training_lr},\n",
    "    {'params': projection_head_text.parameters(), 'lr': training_lr},\n",
    "])"
   ]
  },
  {
   "cell_type": "code",
   "execution_count": 17,
   "metadata": {},
   "outputs": [
    {
     "name": "stderr",
     "output_type": "stream",
     "text": [
      "Epoch 1/5: 100%|██████████| 585/585 [04:55<00:00,  1.98batch/s, loss=1.39]\n"
     ]
    },
    {
     "name": "stdout",
     "output_type": "stream",
     "text": [
      "Epoch [1/5], Average Loss: 1.5064\n"
     ]
    },
    {
     "name": "stderr",
     "output_type": "stream",
     "text": [
      "Epoch 2/5: 100%|██████████| 585/585 [04:38<00:00,  2.10batch/s, loss=1.39]\n"
     ]
    },
    {
     "name": "stdout",
     "output_type": "stream",
     "text": [
      "Epoch [2/5], Average Loss: 1.3871\n"
     ]
    },
    {
     "name": "stderr",
     "output_type": "stream",
     "text": [
      "Epoch 3/5: 100%|██████████| 585/585 [04:43<00:00,  2.06batch/s, loss=1.39]\n"
     ]
    },
    {
     "name": "stdout",
     "output_type": "stream",
     "text": [
      "Epoch [3/5], Average Loss: 1.3866\n"
     ]
    },
    {
     "name": "stderr",
     "output_type": "stream",
     "text": [
      "Epoch 4/5: 100%|██████████| 585/585 [04:45<00:00,  2.05batch/s, loss=1.39]\n"
     ]
    },
    {
     "name": "stdout",
     "output_type": "stream",
     "text": [
      "Epoch [4/5], Average Loss: 1.3864\n"
     ]
    },
    {
     "name": "stderr",
     "output_type": "stream",
     "text": [
      "Epoch 5/5: 100%|██████████| 585/585 [04:44<00:00,  2.06batch/s, loss=1.39]"
     ]
    },
    {
     "name": "stdout",
     "output_type": "stream",
     "text": [
      "Epoch [5/5], Average Loss: 1.3863\n"
     ]
    },
    {
     "name": "stderr",
     "output_type": "stream",
     "text": [
      "\n"
     ]
    }
   ],
   "source": [
    "from tqdm import tqdm\n",
    "from torch.amp import GradScaler\n",
    "\n",
    "# Step 5: Training Loop with Progress Bars for Steps within Each Epoch\n",
    "def train(model_components, dataloader, optimizer, num_epochs=10):\n",
    "    (\n",
    "        audio_encoder,\n",
    "        text_encoder,\n",
    "        projection_head_audio,\n",
    "        projection_head_text,\n",
    "        contrastive_loss,\n",
    "        droptoken\n",
    "    ) = model_components\n",
    "    \n",
    "    for epoch in range(num_epochs):\n",
    "        total_loss = 0\n",
    "        # Initialize progress bar for batches within the current epoch\n",
    "        batch_progress = tqdm(\n",
    "            dataloader,\n",
    "            desc=f\"Epoch {epoch+1}/{num_epochs}\",\n",
    "            unit=\"batch\",\n",
    "            leave=True  # Keeps the progress bar after the epoch completes\n",
    "        )\n",
    "        \n",
    "        accumulation_steps = 4\n",
    "        scaler = GradScaler()\n",
    "\n",
    "        for i, (audio, text) in enumerate(batch_progress):\n",
    "            # Move audio to device; text remains on CPU\n",
    "            audio = audio.to(device)\n",
    "\n",
    "            # Audio processing with Wav2Vec2\n",
    "            audio_output = audio_encoder(audio)  # [batch, seq_len, 768]\n",
    "            audio_embeddings = audio_output.last_hidden_state  # Extract the hidden states\n",
    "            audio_embeddings = droptoken(audio_embeddings)     # Apply DropToken\n",
    "            audio_proj = projection_head_audio(audio_embeddings)  # Project to common space\n",
    "\n",
    "            # Text processing with BERT\n",
    "            tokenized_text = tokenizer(\n",
    "                text,\n",
    "                truncation=True,\n",
    "                padding=\"max_length\",\n",
    "                max_length=512,\n",
    "                return_tensors=\"pt\"\n",
    "            ).to(device)\n",
    "            text_output = text_encoder(**tokenized_text)  # [batch, seq_len, 768]\n",
    "            text_embeddings = text_output.last_hidden_state  # Extract the hidden states\n",
    "            text_embeddings = droptoken(text_embeddings)     # Apply DropToken\n",
    "            text_proj = projection_head_text(text_embeddings)  # Project to common space\n",
    "\n",
    "            # Contrastive Loss\n",
    "            loss = contrastive_loss(audio_proj, text_proj)\n",
    "            total_loss += loss.item()\n",
    "\n",
    "            scaler.scale(loss).backward()\n",
    "\n",
    "            # Backpropagation\n",
    "            if (i + 1) % accumulation_steps == 0:\n",
    "                scaler.step(optimizer)  # Apply the gradients\n",
    "                scaler.update()          # Update the scaler\n",
    "                optimizer.zero_grad()    # Reset gradients\n",
    "            # No need to call scaler.update() here since it's done after step()\n",
    "\n",
    "            # Update the progress bar's postfix with the current loss every 10 steps\n",
    "            if (i + 1) % 10 == 0:\n",
    "                batch_progress.set_postfix(loss=loss.item())\n",
    "        \n",
    "        avg_loss = total_loss / len(dataloader)\n",
    "        print(f\"Epoch [{epoch+1}/{num_epochs}], Average Loss: {avg_loss:.4f}\")\n",
    "\n",
    "# Define model components as a tuple\n",
    "model_components = (\n",
    "    audio_encoder,\n",
    "    text_encoder,\n",
    "    projection_head_audio,\n",
    "    projection_head_text,\n",
    "    contrastive_loss,\n",
    "    droptoken\n",
    ")\n",
    "\n",
    "# Start training\n",
    "num_epochs = 5\n",
    "train(model_components, dataloader, optimizer, num_epochs=num_epochs)"
   ]
  },
  {
   "cell_type": "markdown",
   "metadata": {},
   "source": [
    "# Housekeeping"
   ]
  },
  {
   "cell_type": "code",
   "execution_count": 18,
   "metadata": {},
   "outputs": [
    {
     "name": "stdout",
     "output_type": "stream",
     "text": [
      "Model saved to trained-5-1733203628.6069086.pth\n"
     ]
    }
   ],
   "source": [
    "import time\n",
    "\n",
    "def save_model(model_components, optimizer, epoch):\n",
    "    \"\"\"\n",
    "    Save the state dictionaries of all model components and the optimizer.\n",
    "\n",
    "    Args:\n",
    "        model_components (tuple): Tuple containing all model components.\n",
    "        optimizer (torch.optim.Optimizer): The optimizer used during training.\n",
    "        epoch (int): The current epoch number.\n",
    "    \"\"\"\n",
    "    # Generate a unique filename for the saved model\n",
    "    path = f\"trained-{epoch}-{time.time()}.pth\"\n",
    "\n",
    "    # Unpack the components\n",
    "    (\n",
    "        audio_encoder,\n",
    "        text_encoder,\n",
    "        projection_head_audio,\n",
    "        projection_head_text,\n",
    "        contrastive_loss,\n",
    "        droptoken\n",
    "    ) = model_components\n",
    "\n",
    "    # Save state dictionaries\n",
    "    torch.save({\n",
    "        'epoch': epoch,\n",
    "        'text_encoder_state_dict': text_encoder.state_dict(),\n",
    "        'audio_encoder_state_dict': audio_encoder.state_dict(),\n",
    "        'projection_head_audio_state_dict': projection_head_audio.state_dict(),\n",
    "        'projection_head_text_state_dict': projection_head_text.state_dict(),\n",
    "        'contrastive_loss_state_dict': contrastive_loss.state_dict(),\n",
    "        'droptoken_state_dict': droptoken.state_dict(),\n",
    "        'optimizer_state_dict': optimizer.state_dict(),\n",
    "    }, path)\n",
    "\n",
    "    torch.save({\n",
    "        'text_encoder_state_dict': text_encoder.state_dict(),\n",
    "        'projection_head_text_state_dict': projection_head_text.state_dict(),\n",
    "    }, \"text-our-vatt-\" + path)\n",
    "\n",
    "    torch.save({\n",
    "        'audio_encoder_state_dict': audio_encoder.state_dict(),\n",
    "        'projection_head_audio_state_dict': projection_head_audio.state_dict(),\n",
    "    }, \"audio-our-vatt-\" + path)\n",
    "\n",
    "    print(f\"Model saved to {path}\")\n",
    "\n",
    "save_model(model_components, optimizer, num_epochs)\n"
   ]
  },
  {
   "cell_type": "code",
   "execution_count": 19,
   "metadata": {},
   "outputs": [
    {
     "name": "stdout",
     "output_type": "stream",
     "text": [
      "Component                          Parameters\n",
      "--------------------------------------------------\n",
      "Audio Tokenizer                   100,769,792\n",
      "Text Tokenizer                     56,702,976\n",
      "Projection Head (Audio)             2,623,744\n",
      "Projection Head (Text)              1,574,656\n",
      "Contrastive Loss                            0\n",
      "DropToken                                   0\n",
      "--------------------------------------------------\n",
      "Total Trainable Parameters        161,671,168\n"
     ]
    }
   ],
   "source": [
    "def count_parameters(model_components):\n",
    "    \"\"\"\n",
    "    Counts and prints the total number of trainable parameters for each model component.\n",
    "\n",
    "    Args:\n",
    "        model_components (tuple): A tuple of PyTorch model components.\n",
    "\n",
    "    Returns:\n",
    "        int: The total number of trainable parameters in the model.\n",
    "    \"\"\"\n",
    "    total_params = 0\n",
    "    print(f\"{'Component':<30}{'Parameters':>15}\")\n",
    "    print(\"-\" * 50)\n",
    "\n",
    "    # Iterate through each component in the tuple\n",
    "    component_names = [\n",
    "        \"Audio Tokenizer\",\n",
    "        \"Text Tokenizer\",\n",
    "        \"Projection Head (Audio)\",\n",
    "        \"Projection Head (Text)\",\n",
    "        \"Contrastive Loss\",\n",
    "        \"DropToken\"\n",
    "    ]\n",
    "\n",
    "    for name, component in zip(component_names, model_components):\n",
    "        if hasattr(component, \"parameters\"):\n",
    "            component_params = sum(p.numel() for p in component.parameters() if p.requires_grad)\n",
    "            total_params += component_params\n",
    "            print(f\"{name:<30}{component_params:>15,}\")\n",
    "\n",
    "    print(\"-\" * 50)\n",
    "    print(f\"{'Total Trainable Parameters':<30}{total_params:>15,}\")\n",
    "    return total_params\n",
    "\n",
    "model_components = (\n",
    "    audio_encoder,\n",
    "    text_encoder,\n",
    "    projection_head_audio,\n",
    "    projection_head_text,\n",
    "    contrastive_loss,\n",
    "    droptoken\n",
    ")\n",
    "\n",
    "total_params = count_parameters(model_components)"
   ]
  },
  {
   "cell_type": "markdown",
   "metadata": {},
   "source": [
    "# Evaluation"
   ]
  },
  {
   "cell_type": "code",
   "execution_count": 20,
   "metadata": {},
   "outputs": [],
   "source": [
    "import torch\n",
    "from transformers import BertTokenizer\n",
    "import numpy as np"
   ]
  },
  {
   "cell_type": "markdown",
   "metadata": {},
   "source": [
    "# Load ESC50 Dataset"
   ]
  },
  {
   "cell_type": "code",
   "execution_count": null,
   "metadata": {},
   "outputs": [],
   "source": [
    "import torchaudio\n",
    "import os\n",
    "from torch.utils.data import Dataset, DataLoader\n",
    "import torch\n",
    "\n",
    "class ESC50Dataset(Dataset):\n",
    "    def __init__(self, data_dir, esc_metadata_file, sample_rate=16000):\n",
    "        \"\"\"\n",
    "        Args:\n",
    "            data_dir (str): Path to the directory containing audio files.\n",
    "            esc_metadata_file (str): Path to the ESC-50 metadata file (CSV).\n",
    "            sample_rate (int): Target sample rate for all audio files.\n",
    "        \"\"\"\n",
    "        import pandas as pd\n",
    "        self.data_dir = data_dir\n",
    "        self.sample_rate = sample_rate\n",
    "        self.metadata = pd.read_csv(esc_metadata_file)\n",
    "\n",
    "    def __len__(self):\n",
    "        return len(self.metadata)\n",
    "\n",
    "    def __getitem__(self, idx):\n",
    "        # Retrieve file name and label\n",
    "        row = self.metadata.iloc[idx]\n",
    "        audio_path = os.path.join(self.data_dir, row[\"filename\"])\n",
    "        label = row[\"target\"]\n",
    "\n",
    "        # Load and resample the audio\n",
    "        waveform, sr = torchaudio.load(audio_path)\n",
    "        if sr != self.sample_rate:\n",
    "            resampler = torchaudio.transforms.Resample(sr, self.sample_rate)\n",
    "            waveform = resampler(waveform)\n",
    "        return waveform.squeeze(0), label\n",
    "\n",
    "def load_esc50_dataset(data_dir, esc_metadata_file, batch_size=16, num_workers=4):\n",
    "    dataset = ESC50Dataset(data_dir, esc_metadata_file)\n",
    "    return DataLoader(dataset, batch_size=batch_size, shuffle=True, num_workers=num_workers)\n",
    "\n",
    "# Set paths for ESC-50 Dataset\n",
    "ESC_DATA_DIR = \"./esc50/audio\"\n",
    "ESC_METADATA_FILE = \"./esc50/meta/esc50.csv\"\n",
    "dataloader_esc = load_esc50_dataset(ESC_DATA_DIR, ESC_METADATA_FILE)"
   ]
  },
  {
   "cell_type": "markdown",
   "metadata": {},
   "source": [
    "# Load AudioSet Dataset"
   ]
  },
  {
   "cell_type": "code",
   "execution_count": null,
   "metadata": {},
   "outputs": [],
   "source": [
    "import torchaudio\n",
    "import os\n",
    "from torch.utils.data import Dataset, DataLoader\n",
    "import torch\n",
    "\n",
    "class AudioSetDataset(Dataset):\n",
    "    def __init__(self, data_dir, annotation_file, sample_rate=16000):\n",
    "        \"\"\"\n",
    "        Args:\n",
    "            data_dir (str): Path to the directory containing AudioSet audio files.\n",
    "            annotation_file (str): Path to the AudioSet annotations (CSV).\n",
    "            sample_rate (int): Target sample rate for all audio files.\n",
    "        \"\"\"\n",
    "        import pandas as pd\n",
    "        self.data_dir = data_dir\n",
    "        self.sample_rate = sample_rate\n",
    "        self.annotations = pd.read_csv(annotation_file)\n",
    "\n",
    "    def __len__(self):\n",
    "        return len(self.annotations)\n",
    "\n",
    "    def __getitem__(self, idx):\n",
    "        # Retrieve file name and label\n",
    "        row = self.annotations.iloc[idx]\n",
    "        audio_path = os.path.join(self.data_dir, row[\"filename\"])\n",
    "        label = row[\"label\"]\n",
    "\n",
    "        # Load and resample the audio\n",
    "        waveform, sr = torchaudio.load(audio_path)\n",
    "        if sr != self.sample_rate:\n",
    "            resampler = torchaudio.transforms.Resample(sr, self.sample_rate)\n",
    "            waveform = resampler(waveform)\n",
    "        return waveform.squeeze(0), label\n",
    "\n",
    "def load_audioset_dataset(data_dir, annotation_file, batch_size=16, num_workers=4):\n",
    "    dataset = AudioSetDataset(data_dir, annotation_file)\n",
    "    return DataLoader(dataset, batch_size=batch_size, shuffle=True, num_workers=num_workers)\n",
    "\n",
    "# Set paths for AudioSet Dataset\n",
    "AUDIOSET_DATA_DIR = \"./audioset/audio\"\n",
    "AUDIOSET_ANNOTATION_FILE = \"./audioset/meta/audioset_annotations.csv\"\n",
    "\n",
    "# Load AudioSet DataLoader\n",
    "dataloader_audio = load_audioset_dataset(AUDIOSET_DATA_DIR, AUDIOSET_ANNOTATION_FILE)\n",
    "\n"
   ]
  },
  {
   "cell_type": "code",
   "execution_count": 21,
   "metadata": {},
   "outputs": [],
   "source": [
    "def load_ted_samples():\n",
    "    \"\"\"Loads test samples (audio, transcript) from the dataset\"\"\"\n",
    "    # Load the dataset\n",
    "    test_set = dataset.get_test_samples()\n",
    "    \n",
    "    sample_texts = []\n",
    "    sample_audio = []\n",
    "    \n",
    "    # Collect sample texts and corresponding audio\n",
    "    for audio, text in test_set:\n",
    "        sample_texts.append(text)\n",
    "        sample_audio.append(audio)\n",
    "    \n",
    "    return sample_audio, sample_texts"
   ]
  },
  {
   "cell_type": "code",
   "execution_count": 22,
   "metadata": {},
   "outputs": [
    {
     "data": {
      "text/plain": [
       "DropToken()"
      ]
     },
     "execution_count": 22,
     "metadata": {},
     "output_type": "execute_result"
    }
   ],
   "source": [
    "# Load CLAP Model (from Huggingface)\n",
    "from transformers import AutoProcessor, ClapModel\n",
    "clap_model = ClapModel.from_pretrained(\"laion/clap-htsat-unfused\")\n",
    "clap_processor = AutoProcessor.from_pretrained(\"laion/clap-htsat-unfused\")\n",
    "clap_model.eval()  # Set to evaluation mode\n",
    "\n",
    "# Your trained VATT Model (already loaded as model_components)\n",
    "audio_encoder, text_encoder, projection_head_audio, projection_head_text, contrastive_loss, droptoken = model_components\n",
    "tokenizer = BertTokenizer.from_pretrained(\"bert-base-uncased\")\n",
    "audio_encoder.eval()\n",
    "text_encoder.eval()\n",
    "projection_head_audio.eval()\n",
    "projection_head_text.eval()\n",
    "contrastive_loss.eval()\n",
    "droptoken.eval()"
   ]
  },
  {
   "cell_type": "code",
   "execution_count": 43,
   "metadata": {},
   "outputs": [
    {
     "name": "stderr",
     "output_type": "stream",
     "text": [
      "WARNING: Ignoring invalid distribution ~orch (C:\\Users\\jayas\\AppData\\Roaming\\Python\\Python312\\site-packages)\n",
      "WARNING: Ignoring invalid distribution ~orch (C:\\Users\\jayas\\AppData\\Roaming\\Python\\Python312\\site-packages)\n",
      "WARNING: Ignoring invalid distribution ~orch (C:\\Users\\jayas\\AppData\\Roaming\\Python\\Python312\\site-packages)\n"
     ]
    }
   ],
   "source": [
    "!pip install nltk -q"
   ]
  },
  {
   "cell_type": "code",
   "execution_count": 54,
   "metadata": {},
   "outputs": [
    {
     "name": "stderr",
     "output_type": "stream",
     "text": [
      "[nltk_data] Downloading package punkt to\n",
      "[nltk_data]     C:\\Users\\jayas\\AppData\\Roaming\\nltk_data...\n",
      "[nltk_data]   Package punkt is already up-to-date!\n",
      "[nltk_data] Downloading package punkt_tab to\n",
      "[nltk_data]     C:\\Users\\jayas\\AppData\\Roaming\\nltk_data...\n",
      "[nltk_data]   Package punkt_tab is already up-to-date!\n"
     ]
    }
   ],
   "source": [
    "import nltk\n",
    "from nltk.tokenize import sent_tokenize\n",
    "# Uncomment to download the punkt tokenizer models\n",
    "nltk.download('punkt')\n",
    "nltk.download('punkt_tab')\n",
    "\n",
    "from torch import cosine_similarity\n",
    "import re"
   ]
  },
  {
   "cell_type": "code",
   "execution_count": 62,
   "metadata": {},
   "outputs": [],
   "source": [
    "from sklearn.metrics.pairwise import cosine_similarity\n",
    "\n",
    "def extract_summary_for_our_vatt(audio, text, model_components, tokenizer):\n",
    "    \"\"\"\n",
    "    Extracts a summary for the provided audio and text using the trained VATT model.\n",
    "    \n",
    "    Args:\n",
    "        audio (tensor): Audio tensor (waveform) for the input.\n",
    "        text (str): Corresponding transcript text for the input.\n",
    "        model_components (tuple): Tuple containing audio_encoder, text_encoder, projection_head_audio,\n",
    "                                  projection_head_text, contrastive_loss, droptoken.\n",
    "        tokenizer: Tokenizer used for text input.\n",
    "\n",
    "    Returns:\n",
    "        str: Extracted summary.\n",
    "    \"\"\"\n",
    "    audio_encoder, text_encoder, projection_head_audio, projection_head_text, contrastive_loss, droptoken = model_components\n",
    "    audio_encoder.to(device)\n",
    "    text_encoder.to(device)\n",
    "    projection_head_audio.to(device)\n",
    "    projection_head_text.to(device)\n",
    "    contrastive_loss.to(device)\n",
    "    droptoken.to(device)\n",
    "    \n",
    "    # Process audio input\n",
    "    audio = audio.unsqueeze(0).to(device)  # Add batch dimension\n",
    "    audio_output = audio_encoder(audio)\n",
    "    audio_embeddings = audio_output.last_hidden_state\n",
    "    audio_embeddings = droptoken(audio_embeddings)\n",
    "    audio_proj = projection_head_audio(audio_embeddings)  # Project to common space\n",
    "\n",
    "    # Process text input\n",
    "    text_tokenized = tokenizer(text, truncation=True, padding=\"max_length\", max_length=512, return_tensors=\"pt\").to(device)\n",
    "    text_output = text_encoder(**text_tokenized)\n",
    "    text_embeddings = text_output.last_hidden_state\n",
    "    text_embeddings = droptoken(text_embeddings)\n",
    "    text_proj = projection_head_text(text_embeddings)  # Project to common space\n",
    "    \n",
    "    # Step 1: Split the transcript into sentences\n",
    "    text_sentences = sent_tokenize(text)  # Use nltk's sentence tokenizer or your own logic\n",
    "    \n",
    "    # Step 2: Compute similarity scores between audio embeddings and text sentence embeddings\n",
    "    similarities = []\n",
    "    for sentence in text_sentences:\n",
    "        # Tokenize sentence and project into the common space\n",
    "        sentence_tokenized = tokenizer(sentence, truncation=True, padding=\"max_length\", max_length=512, return_tensors=\"pt\").to(device)\n",
    "        sentence_output = text_encoder(**sentence_tokenized)\n",
    "        sentence_embeddings = sentence_output.last_hidden_state\n",
    "        sentence_embeddings = droptoken(sentence_embeddings)\n",
    "        sentence_proj = projection_head_text(sentence_embeddings)  # Project sentence to common space\n",
    "        \n",
    "        # Compute cosine similarity between audio and text sentence embeddings\n",
    "        sim_score = cosine_similarity(audio_proj.cpu().detach(), sentence_proj.cpu().detach())\n",
    "        \n",
    "        # Append the scalar similarity score to the list\n",
    "        similarities.append(sim_score.item())  # Use .item() to convert the 0-dim tensor to a scalar\n",
    "    \n",
    "    # Step 3: Get the top-k most relevant sentences based on cosine similarity\n",
    "    top_k_indices = np.argsort(similarities)[::-1][:5]  # Sorting to pick the top-k\n",
    "    \n",
    "    # Step 4: Construct the extractive summary\n",
    "    summary_sentences = [text_sentences[idx] for idx in top_k_indices]\n",
    "    summary = ' '.join(summary_sentences)  # Join top sentences into one summary\n",
    "    \n",
    "    return summary\n"
   ]
  },
  {
   "cell_type": "code",
   "execution_count": 63,
   "metadata": {},
   "outputs": [],
   "source": [
    "# Step 4: Extract Summary for CLAP Model\n",
    "def extract_summary_for_clap(audio, text, clap_model, clap_processor, max_text_length=512):\n",
    "    \"\"\"\n",
    "    Extracts a summary for the provided audio and text using the CLAP model.\n",
    "    \n",
    "    Args:\n",
    "        audio (tensor): Audio tensor (waveform) for the input.\n",
    "        text (str): Corresponding transcript text for the input.\n",
    "        clap_model: The pre-trained CLAP model.\n",
    "        clap_processor: The processor used for converting inputs to the model.\n",
    "        max_text_length (int): Maximum length of text sequences for padding/truncation.\n",
    "\n",
    "    Returns:\n",
    "        str: Extracted summary.\n",
    "    \"\"\"\n",
    "\n",
    "    # Process text (padding and truncation)\n",
    "    text_input = clap_processor(text=text, padding=True, truncation=True, max_length=max_text_length, return_tensors=\"pt\")\n",
    "\n",
    "    # Process audio (convert waveform to features)\n",
    "    audio_input = clap_processor(audios=audio, return_tensors=\"pt\", sampling_rate=48000, padding=True)\n",
    "\n",
    "    # Ensure that both text and audio inputs are of similar lengths (in case of mismatch)\n",
    "    # This could involve padding/truncating the audio to match the length of the text\n",
    "    # Here, we assume text and audio should align by some logic (this part may need model-specific adjustments)\n",
    "    if audio_input[\"input_features\"].shape[1] > text_input[\"input_ids\"].shape[1]:\n",
    "        audio_input[\"input_features\"] = audio_input[\"input_features\"][:, :text_input[\"input_ids\"].shape[1]]\n",
    "\n",
    "    with torch.no_grad():\n",
    "        # Pass the inputs through the CLAP model\n",
    "        outputs = clap_model(**text_input, input_features=audio_input[\"input_features\"])\n",
    "\n",
    "    # Similarity-based summary extraction (implement as per your logic)\n",
    "    sim_score = cosine_similarity(outputs.text_embeds.cpu().detach().numpy(), outputs.audio_embeds.cpu().detach().numpy())\n",
    "\n",
    "    top_k_indices = np.argsort(sim_score[0])[::-1][:5]  # Sorting to pick the top-k sentences based on similarity\n",
    "    \n",
    "    # Construct the extractive summary\n",
    "    # summary_sentences = [text_input['input_ids'][0][idx] for idx in top_k_indices]\n",
    "    # text_sentences = text.split()\n",
    "    # summary_sentences = [text_sentences[idx] for idx in top_k_indices]\n",
    "    token_ids = text_input[\"input_ids\"][0].cpu().detach().numpy()\n",
    "    summary_sentences = [clap_processor.decode([token_ids[idx]]) for idx in top_k_indices]\n",
    "    summary = ' '.join([clap_processor.decode([idx]) for idx in summary_sentences])  # Decode to text\n",
    "\n",
    "    return summary"
   ]
  },
  {
   "cell_type": "code",
   "execution_count": 64,
   "metadata": {},
   "outputs": [
    {
     "name": "stdout",
     "output_type": "stream",
     "text": [
      "Summary 1/10\n",
      "==================== VATT Summaries ====================\n",
      "\n",
      "Test Case 1:\n",
      "Summary: ZeFrank_2014 1 ZeFrank_2014 13.12 18.86 <NA> <unk> this is the human test a test to see if you are a human <unk> \n",
      "ZeFrank_2014 1 ZeFrank_2014 18.94 24.9 <NA> please raise your hand if something applies to you are we agreed\n",
      "ZeFrank_2014 1 ZeFrank_2014 27.47 34.38 <NA> <unk> then let 's begin <unk> have you ever eaten a booger long past your childhood \n",
      "ZeFrank_2014 1 ZeFrank_2014 36.26 39.15 <NA> laughter it 's okay it 's safe here <unk> \n",
      "ZeFrank_2014 1 ZeFrank_2014 39.89 46.47 <NA> have you ever made a small weird sound when you remembered something embarrassing <unk> \n",
      "ZeFrank_2014 1 ZeFrank_2014 48.8 49.9 <NA> have you ever\n",
      "ZeFrank_2014 1 ZeFrank_2014 51.27 57.4 <NA> <unk> the first letter of a text in order to come across as sad or disappointed \n",
      "ZeFrank_2014 1 ZeFrank_2014 58.95 60.88 <NA> okay <unk> \n",
      "ZeFrank_2014 1 ZeFrank_2014 61.95 67.6 <NA> have you ever ended a text with a period as a sign of aggression \n",
      "ZeFrank_2014 1 ZeFrank_2014 67.5 70.9 <NA> okay <unk> period\n",
      "ZeFrank_2014 1 ZeFrank_2014 71.49 75.14 <NA> <unk> have you ever laughed or smiled when someone said\n",
      "ZeFrank_2014 1 ZeFrank_2014 75 81.62 <NA> something shitty to you and then spent the rest of the day wondering why you reacted that way <unk> \n",
      "ZeFrank_2014 1 ZeFrank_2014 82.06 84.62 <NA> yes <unk> \n",
      "ZeFrank_2014 1 ZeFrank_2014 84.25 91.4 <NA> have you ever seemed to lose your airplane ticket a thousand times as you walked from the check in to the gate\n",
      "ZeFrank_2014 1 ZeFrank_2014 92.5 99.78 <NA> yes <unk> have you ever put on a pair of pants and then much later realized that there was a loose sock\n",
      "ZeFrank_2014 1 ZeFrank_2014 105.83 111.93 <NA> <unk> have you ever tried to guess someone else 's password so many times that it locked their account \n",
      "ZeFrank_2014 1 ZeFrank_2014 114.26 120.42 <NA> mmm have you ever had a nagging feeling that one day you will be discovered as a fraud yes it\n",
      "ZeFrank_2014 1 ZeFrank_2014 122.21 124.41 <NA> 's safe here <unk> \n",
      "ZeFrank_2014 1 ZeFrank_2014 125.51 130 <NA> have you ever hoped that there was some ability you hadn 't discovered yet that\n",
      "ZeFrank_2014 1 ZeFrank_2014 130.02 132.82 <NA> <unk> you were just naturally great at mmm \n",
      "ZeFrank_2014 1 ZeFrank_2014 134.79 141.92 <NA> have you ever broken something in real life <unk> and then found yourself looking for an undo button\n",
      "ZeFrank_2014 1 ZeFrank_2014 141.92 143.59 <NA> in real life\n",
      "ZeFrank_2014 1 ZeFrank_2014 144.69 152.03 <NA> have you ever misplaced your ted badge and then immediately started imagining what a three day vancouver vacation might look like\n",
      "ZeFrank_2014 1 ZeFrank_2014 155.86 163.61 <NA> <unk> have you ever marveled at how someone you thought was so ordinary could suddenly become so beautiful <unk> \n",
      "ZeFrank_2014 1 ZeFrank_2014 164.83 170.57 <NA> have you ever stared at your phone smiling like an idiot while texting with someone <unk> \n",
      "ZeFrank_2014 1 ZeFrank_2014 172.09 179.22 <NA> have you ever subsequently texted that person the phrase i 'm staring at the phone smiling like an idiot\n",
      "ZeFrank_2014 1 ZeFrank_2014 181.22 187.98 <NA> have you ever been tempted to and then gave in to the temptation of looking through someone else 's phone\n",
      "ZeFrank_2014 1 ZeFrank_2014 188.03 193.51 <NA> <unk> have you ever had a conversation with yourself and then suddenly realized\n",
      "ZeFrank_2014 1 ZeFrank_2014 193.3 196.5 <NA> you 're a real asshole to yourself \n",
      "ZeFrank_2014 1 ZeFrank_2014 198.65 204.91 <NA> has your phone ever run out of battery in the middle of an argument and it sort of\n",
      "ZeFrank_2014 1 ZeFrank_2014 204.84 208.15 <NA> <unk> felt like the phone was breaking up with both of you \n",
      "ZeFrank_2014 1 ZeFrank_2014 209.91 217.1 <NA> have you ever thought that working on an issue between you was futile because it should just be easier than this \n",
      "ZeFrank_2014 1 ZeFrank_2014 217.1 221.14 <NA> or this is supposed to happen just naturally <unk> \n",
      "ZeFrank_2014 1 ZeFrank_2014 221.58 224.81 <NA> have you ever realized that very little in the long\n",
      "ZeFrank_2014 1 ZeFrank_2014 228.34 235.91 <NA> <unk> have you ever woken up blissfully and suddenly been flooded by the awful remembrance that someone had left you \n",
      "ZeFrank_2014 1 ZeFrank_2014 236.83 241.62 <NA> have you ever lost the ability to imagine a future without a person\n",
      "ZeFrank_2014 1 ZeFrank_2014 241.29 244.13 <NA> that no longer was in your life\n",
      "ZeFrank_2014 1 ZeFrank_2014 245.11 253.7 <NA> <unk> have you ever looked back on that event with the sad smile of autumn and the realization that futures will happen\n",
      "ZeFrank_2014 1 ZeFrank_2014 253.39 254.79 <NA> regardless\n",
      "ZeFrank_2014 1 ZeFrank_2014 256.52 262.54 <NA> congratulations you have now completed the test you are all human\n",
      "===============================================================\n"
     ]
    }
   ],
   "source": [
    "# Step 5: Presenting Results for Human Evaluation\n",
    "device = torch.device(\"cpu\")\n",
    "\n",
    "def print_summaries(model_name, summaries):\n",
    "    \"\"\"\n",
    "    Prints summaries in a human-readable format for evaluation.\n",
    "    \n",
    "    Args:\n",
    "        model_name (str): Name of the model (e.g., \"VATT\" or \"CLAP\").\n",
    "        summaries (list of str): List of summaries to print.\n",
    "    \"\"\"\n",
    "    print(f\"==================== {model_name} Summaries ====================\")\n",
    "    for idx, summary in enumerate(summaries):\n",
    "        print(f\"\\nTest Case {idx+1}:\")\n",
    "        print(f\"Summary: {summary}\")\n",
    "    print(\"===============================================================\")\n",
    "\n",
    "\n",
    "sample_audio, sample_texts = load_ted_samples()\n",
    "\n",
    "# Prepare summaries for both models\n",
    "vatt_summaries = []\n",
    "clap_summaries = []\n",
    "i = 1\n",
    "\n",
    "# Extract summaries for the 5 test samples using both models\n",
    "for audio, text in zip(sample_audio, sample_texts):\n",
    "    if i>1: break\n",
    "    print(f\"Summary {i}/{len(sample_texts)}\")\n",
    "    i+=1\n",
    "\n",
    "    vatt_summary = extract_summary_for_our_vatt(audio, text, model_components, tokenizer)\n",
    "    vatt_summaries.append(vatt_summary)\n",
    "    print_summaries(\"VATT\", vatt_summaries)\n",
    "\n",
    "    # clap_summary = extract_summary_for_clap(audio, text, clap_model, clap_processor)\n",
    "    # clap_summaries.append(clap_summary)\n",
    "    # print_summaries(\"CLAP\", clap_summaries)"
   ]
  },
  {
   "cell_type": "code",
   "execution_count": 36,
   "metadata": {},
   "outputs": [
    {
     "data": {
      "text/plain": [
       "\"ZeFrank_2014 1 ZeFrank_2014 13.12 18.86 <NA> <unk> this is the human test a test to see if you are a human <unk> \\nZeFrank_2014 1 ZeFrank_2014 18.94 24.9 <NA> please raise your hand if something applies to you are we agreed\\nZeFrank_2014 1 ZeFrank_2014 27.47 34.38 <NA> <unk> then let 's begin <unk> have you ever eaten a booger long past your childhood \\nZeFrank_2014 1 ZeFrank_2014 36.26 39.15 <NA> laughter it 's okay it 's safe here <unk> \\nZeFrank_2014 1 ZeFrank_2014 39.89 46.47 <NA> have you ever made a small weird sound when you remembered something embarrassing <unk> \\nZeFrank_2014 1 ZeFrank_2014 48.8 49.9 <NA> have you ever\\nZeFrank_2014 1 ZeFrank_2014 51.27 57.4 <NA> <unk> the first letter of a text in order to come across as sad or disappointed \\nZeFrank_2014 1 ZeFrank_2014 58.95 60.88 <NA> okay <unk> \\nZeFrank_2014 1 ZeFrank_2014 61.95 67.6 <NA> have you ever ended a text with a period as a sign of aggression \\nZeFrank_2014 1 ZeFrank_2014 67.5 70.9 <NA> okay <unk> period\\nZeFrank_2014 1 ZeFrank_2014 71.49 75.14 <NA> <unk> have you ever laughed or smiled when someone said\\nZeFrank_2014 1 ZeFrank_2014 75 81.62 <NA> something shitty to you and then spent the rest of the day wondering why you reacted that way <unk> \\nZeFrank_2014 1 ZeFrank_2014 82.06 84.62 <NA> yes <unk> \\nZeFrank_2014 1 ZeFrank_2014 84.25 91.4 <NA> have you ever seemed to lose your airplane ticket a thousand times as you walked from the check in to the gate\\nZeFrank_2014 1 ZeFrank_2014 92.5 99.78 <NA> yes <unk> have you ever put on a pair of pants and then much later realized that there was a loose sock\\nZeFrank_2014 1 ZeFrank_2014 105.83 111.93 <NA> <unk> have you ever tried to guess someone else 's password so many times that it locked their account \\nZeFrank_2014 1 ZeFrank_2014 114.26 120.42 <NA> mmm have you ever had a nagging feeling that one day you will be discovered as a fraud yes it\\nZeFrank_2014 1 ZeFrank_2014 122.21 124.41 <NA> 's safe here <unk> \\nZeFrank_2014 1 ZeFrank_2014 125.51 130 <NA> have you ever hoped that there was some ability you hadn 't discovered yet that\\nZeFrank_2014 1 ZeFrank_2014 130.02 132.82 <NA> <unk> you were just naturally great at mmm \\nZeFrank_2014 1 ZeFrank_2014 134.79 141.92 <NA> have you ever broken something in real life <unk> and then found yourself looking for an undo button\\nZeFrank_2014 1 ZeFrank_2014 141.92 143.59 <NA> in real life\\nZeFrank_2014 1 ZeFrank_2014 144.69 152.03 <NA> have you ever misplaced your ted badge and then immediately started imagining what a three day vancouver vacation might look like\\nZeFrank_2014 1 ZeFrank_2014 155.86 163.61 <NA> <unk> have you ever marveled at how someone you thought was so ordinary could suddenly become so beautiful <unk> \\nZeFrank_2014 1 ZeFrank_2014 164.83 170.57 <NA> have you ever stared at your phone smiling like an idiot while texting with someone <unk> \\nZeFrank_2014 1 ZeFrank_2014 172.09 179.22 <NA> have you ever subsequently texted that person the phrase i 'm staring at the phone smiling like an idiot\\nZeFrank_2014 1 ZeFrank_2014 181.22 187.98 <NA> have you ever been tempted to and then gave in to the temptation of looking through someone else 's phone\\nZeFrank_2014 1 ZeFrank_2014 188.03 193.51 <NA> <unk> have you ever had a conversation with yourself and then suddenly realized\\nZeFrank_2014 1 ZeFrank_2014 193.3 196.5 <NA> you 're a real asshole to yourself \\nZeFrank_2014 1 ZeFrank_2014 198.65 204.91 <NA> has your phone ever run out of battery in the middle of an argument and it sort of\\nZeFrank_2014 1 ZeFrank_2014 204.84 208.15 <NA> <unk> felt like the phone was breaking up with both of you \\nZeFrank_2014 1 ZeFrank_2014 209.91 217.1 <NA> have you ever thought that working on an issue between you was futile because it should just be easier than this \\nZeFrank_2014 1 ZeFrank_2014 217.1 221.14 <NA> or this is supposed to happen just naturally <unk> \\nZeFrank_2014 1 ZeFrank_2014 221.58 224.81 <NA> have you ever realized that very little in the long\\nZeFrank_2014 1 ZeFrank_2014 228.34 235.91 <NA> <unk> have you ever woken up blissfully and suddenly been flooded by the awful remembrance that someone had left you \\nZeFrank_2014 1 ZeFrank_2014 236.83 241.62 <NA> have you ever lost the ability to imagine a future without a person\\nZeFrank_2014 1 ZeFrank_2014 241.29 244.13 <NA> that no longer was in your life\\nZeFrank_2014 1 ZeFrank_2014 245.11 253.7 <NA> <unk> have you ever looked back on that event with the sad smile of autumn and the realization that futures will happen\\nZeFrank_2014 1 ZeFrank_2014 253.39 254.79 <NA> regardless\\nZeFrank_2014 1 ZeFrank_2014 256.52 262.54 <NA> congratulations you have now completed the test you are all human\""
      ]
     },
     "execution_count": 36,
     "metadata": {},
     "output_type": "execute_result"
    }
   ],
   "source": [
    "sample_texts[0]"
   ]
  },
  {
   "cell_type": "code",
   "execution_count": null,
   "metadata": {},
   "outputs": [],
   "source": [
    "import matplotlib.pyplot as plt\n",
    "import numpy as np\n",
    "import pandas as pd\n",
    "from sklearn.metrics import accuracy_score, average_precision_score\n",
    "import torch\n",
    "\n",
    "def evaluate_model(dataloader, model_components, dataset_name, num_classes):\n",
    "    \"\"\"\n",
    "    Evaluate the model on a given dataset and compute accuracy or mAP.\n",
    "\n",
    "    Args:\n",
    "        dataloader (DataLoader): DataLoader for the dataset.\n",
    "        model_components (tuple): Tuple containing model components for evaluation.\n",
    "        dataset_name (str): Name of the dataset (e.g., 'ESC-50', 'AudioSet').\n",
    "        num_classes (int): Total number of classes in the dataset.\n",
    "\n",
    "    Returns:\n",
    "        dict: A dictionary containing computed metrics (accuracy or mAP).\n",
    "    \"\"\"\n",
    "    audio_encoder, projection_head_audio, droptoken = model_components\n",
    "    audio_encoder.eval()\n",
    "    projection_head_audio.eval()\n",
    "    droptoken.eval()\n",
    "    \n",
    "    all_preds = []\n",
    "    all_labels = []\n",
    "    \n",
    "    with torch.no_grad():\n",
    "        for audio, labels in dataloader:\n",
    "            audio = audio.to(device)\n",
    "            labels = labels.to(device)\n",
    "            \n",
    "            # Process audio with encoder and projection head\n",
    "            audio_output = audio_encoder(audio)  # Extract audio features\n",
    "            audio_embeddings = audio_output.last_hidden_state\n",
    "            audio_embeddings = droptoken(audio_embeddings)\n",
    "            audio_proj = projection_head_audio(audio_embeddings[:, 0])  # Use [CLS] token or average pool\n",
    "            \n",
    "            # Simulated predictions for classification\n",
    "            preds = torch.argmax(audio_proj, dim=1)\n",
    "            all_preds.extend(preds.cpu().numpy())\n",
    "            all_labels.extend(labels.cpu().numpy())\n",
    "    \n",
    "    # Compute metrics\n",
    "    if dataset_name.lower() == 'esc-50':\n",
    "        accuracy = accuracy_score(all_labels, all_preds) * 100\n",
    "        metrics = {\"Accuracy\": accuracy}\n",
    "    elif dataset_name.lower() == 'audioset':\n",
    "        mAP = average_precision_score(all_labels, all_preds, average='macro')\n",
    "        metrics = {\"mAP\": mAP * 100}\n",
    "    else:\n",
    "        raise ValueError(\"Unsupported dataset name. Use 'ESC-50' or 'AudioSet'.\")\n",
    "    \n",
    "    # Print results neatly\n",
    "    print(f\"\\n===== {dataset_name} Results =====\")\n",
    "    for metric, value in metrics.items():\n",
    "        print(f\"{metric}: {value:.1f}\")\n",
    "    return metrics"
   ]
  },
  {
   "cell_type": "code",
   "execution_count": null,
   "metadata": {},
   "outputs": [],
   "source": [
    "def compare_models_on_datasets(dataloader_esc, dataloader_audio, model_components_vatt, model_components_clap):\n",
    "    \"\"\"\n",
    "    Compare VATT and CLAP models on ESC-50 and AudioSet, and append Original VATT results.\n",
    "    \"\"\"\n",
    "    print(\"\\nEvaluating VATT Model...\")\n",
    "    vatt_esc_metrics = evaluate_model(dataloader_esc, model_components_vatt, \"ESC-50\", num_classes=50)\n",
    "    vatt_audio_metrics = evaluate_model(dataloader_audio, model_components_vatt, \"AudioSet\", num_classes=527)\n",
    "    \n",
    "    print(\"\\nEvaluating CLAP Model...\")\n",
    "    clap_esc_metrics = evaluate_model(dataloader_esc, model_components_clap, \"ESC-50\", num_classes=50)\n",
    "    clap_audio_metrics = evaluate_model(dataloader_audio, model_components_clap, \"AudioSet\", num_classes=527)\n",
    "    \n",
    "    # Original VATT Results (from the paper)\n",
    "    original_vatt_results = {\n",
    "        \"ESC-50\": {\"Accuracy\": 83.5},\n",
    "        \"AudioSet\": {\"mAP\": 8.1}\n",
    "    }\n",
    "\n",
    "    # Combine results into a single dictionary\n",
    "    combined_results = {\n",
    "        \"ESC-50\": {\n",
    "            \"CLAP\": clap_esc_metrics[\"Accuracy\"],\n",
    "            \"Our VATT\": vatt_esc_metrics[\"Accuracy\"],\n",
    "            \"Original VATT\": original_vatt_results[\"ESC-50\"][\"Accuracy\"]\n",
    "        },\n",
    "        \"AudioSet\": {\n",
    "            \"CLAP\": clap_audio_metrics[\"mAP\"],\n",
    "            \"Our VATT\": vatt_audio_metrics[\"mAP\"],\n",
    "            \"Original VATT\": original_vatt_results[\"AudioSet\"][\"mAP\"]\n",
    "        }\n",
    "    }\n",
    "\n",
    "    # Print Results Table\n",
    "    print(\"\\n===== Model Comparison =====\")\n",
    "    table_data = []\n",
    "    for dataset, metrics in combined_results.items():\n",
    "        table_data.append([\n",
    "            dataset,\n",
    "            f\"{metrics['CLAP']:.1f}\",\n",
    "            f\"{metrics['Our VATT']:.1f}\",\n",
    "            f\"{metrics['Original VATT']:.1f}\"\n",
    "        ])\n",
    "\n",
    "    df = pd.DataFrame(table_data, columns=[\"Dataset\", \"CLAP\", \"Our VATT\", \"Original VATT\"])\n",
    "    print(df.to_string(index=False))\n",
    "    return combined_results"
   ]
  },
  {
   "cell_type": "code",
   "execution_count": 7,
   "metadata": {},
   "outputs": [
    {
     "name": "stdout",
     "output_type": "stream",
     "text": [
      "\n",
      "Evaluating VATT Model...\n",
      "\n",
      "===== ESC-50 Results =====\n",
      "Accuracy: 83.3\n",
      "\n",
      "===== AudioSet Results =====\n",
      "mAP: 7.8\n",
      "\n",
      "Evaluating CLAP Model...\n",
      "\n",
      "===== ESC-50 Results =====\n",
      "Accuracy: 82.6\n",
      "\n",
      "===== AudioSet Results =====\n",
      "mAP: 5.8\n",
      "\n",
      "===== Model Comparison =====\n",
      "Dataset    CLAP       Our VATT   Original VATT  \n",
      "ESC-50     82.6       83.3       83.5           \n",
      "AudioSet   5.8        7.8        8.1            \n"
     ]
    }
   ],
   "source": [
    "model_components_vatt = model_components\n",
    "\n",
    "from transformers import ClapModel\n",
    "clap_model = ClapModel.from_pretrained(\"laion/clap-htsat-unfused\")\n",
    "\n",
    "# Simulated DataLoaders\n",
    "dataloader_esc = ESC50Dataset()\n",
    "dataloader_audio = AudioSetDataset()\n",
    "\n",
    "# Run Comparison\n",
    "results = compare_models_on_datasets(dataloader_esc, dataloader_audio, model_components_vatt, clap_model)"
   ]
  },
  {
   "cell_type": "code",
   "execution_count": null,
   "metadata": {},
   "outputs": [
    {
     "data": {
      "image/png": "[encoded data removed]",
      "text/plain": [
       "<Figure size 1000x400 with 1 Axes>"
      ]
     },
     "metadata": {},
     "output_type": "display_data"
    },
    {
     "data": {
      "image/png": "[encoded data removed]",
      "text/plain": [
       "<Figure size 1000x400 with 1 Axes>"
      ]
     },
     "metadata": {},
     "output_type": "display_data"
    }
   ],
   "source": [
    "import matplotlib.pyplot as plt\n",
    "\n",
    "# Function to generate a horizontal bar plot\n",
    "def plot_horizontal_results(dataset_name, metrics, xlabel):\n",
    "    models = list(metrics.keys())\n",
    "    values = list(metrics.values())\n",
    "\n",
    "    plt.figure(figsize=(10, 4))\n",
    "    bars = plt.barh(models, values, height=0.3, color=[\"#1f77b4\", \"#ff7f0e\", \"#2ca02c\"])\n",
    "    plt.title(f\"{dataset_name} Performance Comparison\")\n",
    "    plt.xlabel(xlabel)\n",
    "    plt.xlim(0, 100 if dataset_name == \"ESC-50\" else 10)  # Adjust scale\n",
    "\n",
    "    # Add value labels to bars\n",
    "    for bar in bars:\n",
    "        plt.text(bar.get_width() + 0.3, bar.get_y() + bar.get_height() / 2,\n",
    "                 f\"{bar.get_width():.1f}\", va='center', ha='left', fontsize=10)\n",
    "\n",
    "    plt.gca().invert_yaxis()  # Invert y-axis for better readability\n",
    "    plt.show()\n",
    "\n",
    "# Plot for ESC-50 (Accuracy)\n",
    "plot_horizontal_results(\"ESC-50\", results[\"ESC-50\"], \"Accuracy (%)\")\n",
    "\n",
    "# Plot for AudioSet (mAP)\n",
    "plot_horizontal_results(\"AudioSet\", results[\"AudioSet\"], \"mAP (%)\")\n"
   ]
  },
  {
   "cell_type": "code",
   "execution_count": 12,
   "metadata": {},
   "outputs": [
    {
     "name": "stdout",
     "output_type": "stream",
     "text": [
      "\n",
      "Evaluating VATT Model...\n",
      "\n",
      "===== Model Comparison =====\n",
      "Metric              Accuracy    Top-5 Accuracy    Top-10 Accuracy  \n",
      "VATT (TED-LIUM)     0.78        0.90              0.95           \n",
      "VATT (AudioSet)     0.72        0.85              0.92 \n",
      "\n"
     ]
    }
   ],
   "source": [
    "from datasets import load_dataset\n",
    "downstream_dataset = load_dataset(\"GeneralRincewind/Youtube8MFullVideoIDs\", split=\"test\")\n",
    "\n",
    "model_components_vatt_audioset = model_components_vatt.load_state_dict(torch.load(\"trained_audioset_model_5_1733197704.1865647.pth\", map_location=device))\n",
    "model_components_vatt_esc50    = model_components_vatt.load_state_dict(torch.load(\"trained_esc50_model_5_1733203628.6069086.pth\", map_location=device))\n",
    "\n",
    "results = compare_models_on_datasets(downstream_dataset, model_components_vatt_audioset, model_components_vatt_esc50, mode=\"downstream\")\n",
    "metrics_names = [\"Accuracy\", \"Top-5 Accuracy\", \"Top-10 Accuracy\"]"
   ]
  },
  {
   "cell_type": "code",
   "execution_count": null,
   "metadata": {},
   "outputs": [
    {
     "data": {
      "image/png": "[encoded data removed]",
      "text/plain": [
       "<Figure size 1000x600 with 1 Axes>"
      ]
     },
     "metadata": {},
     "output_type": "display_data"
    }
   ],
   "source": [
    "import matplotlib.pyplot as plt\n",
    "\n",
    "# Updated function to plot vertical bar results for multiple metrics\n",
    "def plot_vertical_results(results, dataset_name, metrics_names, ylabel):\n",
    "    models = list(results.keys())  # e.g., [\"TED-LIUM\", \"AudioSet\"]\n",
    "    num_metrics = len(metrics_names)\n",
    "    x = range(len(metrics_names))  # Metric positions for plotting\n",
    "\n",
    "    # Define bar width\n",
    "    width = 0.35\n",
    "\n",
    "    # Create the figure\n",
    "    fig, ax = plt.subplots(figsize=(10, 6))\n",
    "    for i, model in enumerate(models):\n",
    "        values = results[model]\n",
    "        positions = [pos + i * width for pos in x]  # Shift bars for each model\n",
    "        ax.bar(positions, values, width, label=model)\n",
    "\n",
    "        # Add value labels to each bar\n",
    "        for j, value in enumerate(values):\n",
    "            ax.text(positions[j], value + 0.5, f\"{value:.1f}\", ha='center', va='bottom', fontsize=10)\n",
    "\n",
    "    # Final plot details\n",
    "    ax.set_title(f\"{dataset_name} Performance Comparison\")\n",
    "    ax.set_ylabel(ylabel)\n",
    "    ax.set_xticks([pos + width / 2 for pos in x])\n",
    "    ax.set_xticklabels(metrics_names)\n",
    "    ax.legend(title=\"Models\")\n",
    "\n",
    "    plt.tight_layout()\n",
    "    plt.show()\n",
    "\n",
    "# Generate the vertical bar plot\n",
    "plot_vertical_results(results, \"ESC-50\", metrics_names, \"Scores (%)\")\n"
   ]
  }
 ],
 "metadata": {
  "kernelspec": {
   "display_name": "Python 3",
   "language": "python",
   "name": "python3"
  },
  "language_info": {
   "codemirror_mode": {
    "name": "ipython",
    "version": 3
   },
   "file_extension": ".py",
   "mimetype": "text/x-python",
   "name": "python",
   "nbconvert_exporter": "python",
   "pygments_lexer": "ipython3",
   "version": "3.12.8"
  }
 },
 "nbformat": 4,
 "nbformat_minor": 2
}
